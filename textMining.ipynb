{
 "cells": [
  {
   "cell_type": "code",
   "execution_count": 1,
   "id": "462b1bca",
   "metadata": {},
   "outputs": [],
   "source": [
    "text = \"To be happy focus on the good\""
   ]
  },
  {
   "cell_type": "code",
   "execution_count": 2,
   "id": "9be0edf2",
   "metadata": {},
   "outputs": [
    {
     "name": "stdout",
     "output_type": "stream",
     "text": [
      "length of text: 29\n"
     ]
    }
   ],
   "source": [
    "print(\"length of text:\",len(text))"
   ]
  },
  {
   "cell_type": "code",
   "execution_count": 3,
   "id": "524ae2dd",
   "metadata": {},
   "outputs": [
    {
     "name": "stdout",
     "output_type": "stream",
     "text": [
      "splitted text: ['To', 'be', 'happy', 'focus', 'on', 'the', 'good']\n"
     ]
    }
   ],
   "source": [
    "splitted_text = text.split()\n",
    "print(\"splitted text:\", splitted_text)"
   ]
  },
  {
   "cell_type": "code",
   "execution_count": 4,
   "id": "c6bdd81b",
   "metadata": {},
   "outputs": [
    {
     "name": "stdout",
     "output_type": "stream",
     "text": [
      "word which are more than 2 letter: ['happy', 'focus', 'the', 'good']\n"
     ]
    }
   ],
   "source": [
    "specific_word =[word for word in splitted_text if (len(word)>2)]\n",
    "print(\"word which are more than 2 letter:\", specific_word)"
   ]
  },
  {
   "cell_type": "code",
   "execution_count": 6,
   "id": "18550034",
   "metadata": {},
   "outputs": [
    {
     "name": "stdout",
     "output_type": "stream",
     "text": [
      "capital words: ['To']\n"
     ]
    }
   ],
   "source": [
    "capital_words = [word for word in splitted_text if word.istitle()]\n",
    "print(\"capital words:\",capital_words)"
   ]
  },
  {
   "cell_type": "code",
   "execution_count": 8,
   "id": "3ae23b2e",
   "metadata": {},
   "outputs": [
    {
     "name": "stdout",
     "output_type": "stream",
     "text": [
      "the word that end with o: ['To']\n"
     ]
    }
   ],
   "source": [
    "word_end_with_o = [word for word in splitted_text if word.endswith(\"o\")]\n",
    "print(\"the word that end with o:\", word_end_with_o)"
   ]
  },
  {
   "cell_type": "code",
   "execution_count": 11,
   "id": "4eb7d663",
   "metadata": {},
   "outputs": [
    {
     "name": "stdout",
     "output_type": "stream",
     "text": [
      "the word that start with h: ['happy']\n"
     ]
    }
   ],
   "source": [
    "word_start_with_h = [word for word in splitted_text if word.startswith(\"h\")]\n",
    "print(\"the word that start with h:\", word_start_with_h)"
   ]
  },
  {
   "cell_type": "code",
   "execution_count": null,
   "id": "36c42ece",
   "metadata": {},
   "outputs": [],
   "source": []
  }
 ],
 "metadata": {
  "kernelspec": {
   "display_name": "Python 3 (ipykernel)",
   "language": "python",
   "name": "python3"
  },
  "language_info": {
   "codemirror_mode": {
    "name": "ipython",
    "version": 3
   },
   "file_extension": ".py",
   "mimetype": "text/x-python",
   "name": "python",
   "nbconvert_exporter": "python",
   "pygments_lexer": "ipython3",
   "version": "3.10.4"
  }
 },
 "nbformat": 4,
 "nbformat_minor": 5
}
